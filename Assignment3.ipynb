{
 "cells": [
  {
   "cell_type": "markdown",
   "metadata": {},
   "source": [
    "# Task 1"
   ]
  },
  {
   "cell_type": "markdown",
   "metadata": {},
   "source": [
    "## 1."
   ]
  },
  {
   "cell_type": "code",
   "execution_count": 1,
   "metadata": {},
   "outputs": [
    {
     "name": "stdout",
     "output_type": "stream",
     "text": [
      "Cannot divide a number with zero\n"
     ]
    }
   ],
   "source": [
    "def divide_zero():\n",
    "    try:\n",
    "        return 5/0\n",
    "    except:\n",
    "        return \"Cannot divide a number with zero\"\n",
    "\n",
    "    \n",
    "f=divide_zero()\n",
    "print(f)"
   ]
  },
  {
   "cell_type": "markdown",
   "metadata": {},
   "source": [
    "## 2"
   ]
  },
  {
   "cell_type": "code",
   "execution_count": 5,
   "metadata": {},
   "outputs": [
    {
     "name": "stdout",
     "output_type": "stream",
     "text": [
      "Americans  play Baseball\n",
      "Americans  play Cricket\n",
      "Americans  watch Baseball\n",
      "Americans  watch Cricket\n",
      "Indians play Baseball\n",
      "Indians play Cricket\n",
      "Indians watch Baseball\n",
      "Indians watch Cricket\n"
     ]
    }
   ],
   "source": [
    "def sentence_generator(L_sub,L_verb,L_obj):\n",
    "    counter = 0\n",
    "    for i in L_sub:\n",
    "        for j in L_verb:\n",
    "            for k in L_obj:\n",
    "                counter=counter+1 \n",
    "                if(counter ==1):\n",
    "                    out_str = i+' '+j+' '+k\n",
    "                else:\n",
    "                    out_str = out_str + '\\n'+i+' '+j+' '+k\n",
    "    return out_str\n",
    "\n",
    "k=sentence_generator([\"Americans \",\"Indians\"],[\"play\",\"watch\"],[\"Baseball\",\"Cricket\"])\n",
    "print(k)"
   ]
  },
  {
   "cell_type": "markdown",
   "metadata": {},
   "source": [
    "# Task 2"
   ]
  },
  {
   "cell_type": "markdown",
   "metadata": {},
   "source": [
    "## 1"
   ]
  },
  {
   "cell_type": "code",
   "execution_count": 22,
   "metadata": {},
   "outputs": [
    {
     "name": "stdout",
     "output_type": "stream",
     "text": [
      "[[  1   1   1   1]\n",
      " [  8   4   2   1]\n",
      " [ 27   9   3   1]\n",
      " [125  25   5   1]]\n"
     ]
    }
   ],
   "source": [
    "import numpy as np\n",
    "def get_vander(L):\n",
    "    N=len(L)\n",
    "    lst_matrix=[]\n",
    "    for val in L:\n",
    "        lst=[]\n",
    "        for i in range(N):\n",
    "            lst.append((val**(N-i-1)))\n",
    "        lst_matrix.append(lst)\n",
    "    return np.matrix(lst_matrix)\n",
    "\n",
    "qq=get_vander([1,2,3,5])\n",
    "print(qq)\n",
    "    "
   ]
  },
  {
   "cell_type": "code",
   "execution_count": 20,
   "metadata": {},
   "outputs": [
    {
     "name": "stdout",
     "output_type": "stream",
     "text": [
      "2x2 matrix is:\n",
      " [[1 2]\n",
      " [3 4]]\n"
     ]
    }
   ],
   "source": [
    "a = np.matrix([[1, 2], [3, 4]])  # using array of array\n",
    "print('2x2 matrix is:\\n', a)"
   ]
  },
  {
   "cell_type": "code",
   "execution_count": null,
   "metadata": {},
   "outputs": [],
   "source": []
  }
 ],
 "metadata": {
  "kernelspec": {
   "display_name": "Python 3",
   "language": "python",
   "name": "python3"
  },
  "language_info": {
   "codemirror_mode": {
    "name": "ipython",
    "version": 3
   },
   "file_extension": ".py",
   "mimetype": "text/x-python",
   "name": "python",
   "nbconvert_exporter": "python",
   "pygments_lexer": "ipython3",
   "version": "3.7.4"
  }
 },
 "nbformat": 4,
 "nbformat_minor": 2
}
