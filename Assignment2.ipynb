{
 "cells": [
  {
   "cell_type": "markdown",
   "metadata": {},
   "source": [
    "# Task1"
   ]
  },
  {
   "cell_type": "markdown",
   "metadata": {},
   "source": [
    "# 1.1"
   ]
  },
  {
   "cell_type": "code",
   "execution_count": 36,
   "metadata": {},
   "outputs": [
    {
     "data": {
      "text/plain": [
       "[3, 9]"
      ]
     },
     "execution_count": 36,
     "metadata": {},
     "output_type": "execute_result"
    }
   ],
   "source": [
    "def my_func(x):\n",
    "    if(x%3==0):\n",
    "        return x\n",
    "    else:\n",
    "        return 'Null'\n",
    "\n",
    "\n",
    "def my_filter(func,L):\n",
    "    return_list = []\n",
    "    for idx,v in enumerate(L):\n",
    "        p=func(v)\n",
    "        if p !='Null':\n",
    "            return_list.append(p)\n",
    "    return return_list\n",
    "\n",
    "my_filter(my_func,[1,3,5,9])\n",
    "        "
   ]
  },
  {
   "cell_type": "markdown",
   "metadata": {},
   "source": [
    "# 1.2"
   ]
  },
  {
   "cell_type": "code",
   "execution_count": 3,
   "metadata": {},
   "outputs": [
    {
     "data": {
      "text/plain": [
       "4"
      ]
     },
     "execution_count": 3,
     "metadata": {},
     "output_type": "execute_result"
    }
   ],
   "source": [
    "def my_reduce(func,L):\n",
    "    \n",
    "    for idx,v in enumerate(L):\n",
    "        if(idx==0):\n",
    "            N=''\n",
    "            var1 = v\n",
    "        elif(idx==1):\n",
    "            var2=v\n",
    "            N=func(var1,var2)\n",
    "        else:\n",
    "            N=func(v,N)\n",
    "    return N\n",
    "\n",
    "def my_func(x,y):\n",
    "    if(x>y):\n",
    "        return x\n",
    "    else:\n",
    "        return y\n",
    "\n",
    "my_reduce(my_func,[1,2,3,4])\n"
   ]
  },
  {
   "cell_type": "markdown",
   "metadata": {},
   "source": [
    "# 2"
   ]
  },
  {
   "cell_type": "code",
   "execution_count": 4,
   "metadata": {},
   "outputs": [
    {
     "name": "stdout",
     "output_type": "stream",
     "text": [
      "['A', 'C', 'A', 'D', 'G', 'I', 'L', 'D']\n"
     ]
    }
   ],
   "source": [
    "lst = list()\n",
    "lst=[i for i in 'ACADGILD']\n",
    "print(lst)"
   ]
  },
  {
   "cell_type": "code",
   "execution_count": 10,
   "metadata": {},
   "outputs": [
    {
     "name": "stdout",
     "output_type": "stream",
     "text": [
      "['x', 'xx', 'xxx', 'xxxx', 'y', 'yy', 'yyy', 'yyyy', 'z', 'zz', 'zzz', 'zzzz']\n"
     ]
    }
   ],
   "source": [
    "lst = list()\n",
    "lst=[j*i for i in ['x','y','z'] for j in [1,2,3,4]]\n",
    "print(lst)"
   ]
  },
  {
   "cell_type": "code",
   "execution_count": 9,
   "metadata": {},
   "outputs": [
    {
     "name": "stdout",
     "output_type": "stream",
     "text": [
      "['x', 'y', 'z', 'xx', 'yy', 'zz', 'xxx', 'yyy', 'zzz', 'xxxx', 'yyyy', 'zzzz']\n"
     ]
    }
   ],
   "source": [
    "lst = list()\n",
    "lst=[j*i for i in [1,2,3,4] for j in ['x','y','z']]\n",
    "print(lst)"
   ]
  },
  {
   "cell_type": "code",
   "execution_count": 22,
   "metadata": {},
   "outputs": [
    {
     "name": "stdout",
     "output_type": "stream",
     "text": [
      "[[2], [3], [4], [3], [4], [5], [4], [5], [6]]\n"
     ]
    }
   ],
   "source": [
    "lst = list()\n",
    "lst = [[i+j] for i in[2,3,4] for j in range(3)]\n",
    "print(lst)"
   ]
  },
  {
   "cell_type": "code",
   "execution_count": 25,
   "metadata": {},
   "outputs": [
    {
     "name": "stdout",
     "output_type": "stream",
     "text": [
      "[[2, 3, 4, 5], [3, 4, 5, 6], [4, 5, 6, 7], [5, 6, 7, 8]]\n"
     ]
    }
   ],
   "source": [
    "lst = list()\n",
    "lst = [[i+j for i in[2,3,4,5]] for j in range(4)]\n",
    "print(lst)"
   ]
  },
  {
   "cell_type": "raw",
   "metadata": {},
   "source": [
    "lst = list()\n",
    "lst = [(j,i) for i in [1,2,3] for j in [1,2,3]]\n",
    "print(lst)"
   ]
  },
  {
   "cell_type": "markdown",
   "metadata": {},
   "source": [
    "# 3"
   ]
  },
  {
   "cell_type": "code",
   "execution_count": 39,
   "metadata": {},
   "outputs": [
    {
     "name": "stdout",
     "output_type": "stream",
     "text": [
      "Learning\n"
     ]
    }
   ],
   "source": [
    "#Function to find longest word in a list. If the list contains two words of same size then the first encountered word will be returned\n",
    "def longestWord(L):\n",
    "    prev_len = 0\n",
    "    \n",
    "    for i in L:\n",
    "        curr_len = len(i)\n",
    "        if(curr_len>prev_len):\n",
    "            longst_len=curr_len\n",
    "            prev_len = curr_len\n",
    "            longst_wrd = i\n",
    "            prev_wrd = i\n",
    "        else:\n",
    "            longst_len = prev_len\n",
    "            longst_wrd = prev_wrd\n",
    "    return longst_wrd\n",
    "\n",
    "l = longestWord(['Learning','Python','The','Easy','Way'])\n",
    "print(l)\n",
    "            \n",
    "        "
   ]
  },
  {
   "cell_type": "markdown",
   "metadata": {},
   "source": [
    "# TASK 2"
   ]
  },
  {
   "cell_type": "markdown",
   "metadata": {},
   "source": [
    "## 1.1"
   ]
  },
  {
   "cell_type": "code",
   "execution_count": 24,
   "metadata": {},
   "outputs": [
    {
     "name": "stdout",
     "output_type": "stream",
     "text": [
      "Length of 1st side of triangle: 12\n",
      "Length of 2nd side of triangle: 13\n",
      "Length of 3rd side of triangle: 14\n",
      "Area of the triangle is 72.30793524918272\n"
     ]
    }
   ],
   "source": [
    "class Partriangle:\n",
    "    def __init__(self):\n",
    "        self.a = int(input(\"Length of 1st side of triangle: \"))\n",
    "        self.b = int(input(\"Length of 2nd side of triangle: \"))\n",
    "        self.c = int(input(\"Length of 3rd side of triangle: \"))\n",
    "        \n",
    "class Childtriangle(Partriangle):\n",
    "    def calc_area(self):\n",
    "        s = (self.a + self.b + self.c)/2\n",
    "        area = (s*(s-self.a)*(s-self.b)*(s-self.c))**0.5\n",
    "        return area\n",
    "    \n",
    "tri = Childtriangle()\n",
    "tri_area = tri.calc_area()\n",
    "print(\"Area of the triangle is \"+str(tri_area))"
   ]
  },
  {
   "cell_type": "markdown",
   "metadata": {},
   "source": [
    "## 1.2 "
   ]
  },
  {
   "cell_type": "code",
   "execution_count": 5,
   "metadata": {},
   "outputs": [],
   "source": [
    "def filter_long_words(L,N):\n",
    "    lst=[]\n",
    "    for i in L:\n",
    "        if(len(i)>N) :\n",
    "            lst.append(i)\n",
    "    return lst"
   ]
  },
  {
   "cell_type": "code",
   "execution_count": 7,
   "metadata": {},
   "outputs": [
    {
     "name": "stdout",
     "output_type": "stream",
     "text": [
      "['Learning', 'Python']\n"
     ]
    }
   ],
   "source": [
    "Li = filter_long_words(['Learning','Python','The','Easy','Way'],4)\n",
    "print(Li)"
   ]
  },
  {
   "cell_type": "markdown",
   "metadata": {},
   "source": [
    "## 2.1"
   ]
  },
  {
   "cell_type": "code",
   "execution_count": 13,
   "metadata": {},
   "outputs": [],
   "source": [
    "def my_list_map(L):\n",
    "    lst=list(map(lambda x: len(x),L))\n",
    "    return lst"
   ]
  },
  {
   "cell_type": "code",
   "execution_count": 14,
   "metadata": {},
   "outputs": [
    {
     "name": "stdout",
     "output_type": "stream",
     "text": [
      "[8, 6, 3, 4, 3]\n"
     ]
    }
   ],
   "source": [
    "lst = my_list_map(['Learning','Python','The','Easy','Way'])\n",
    "print (lst)"
   ]
  },
  {
   "cell_type": "markdown",
   "metadata": {},
   "source": [
    "## 2.2"
   ]
  },
  {
   "cell_type": "code",
   "execution_count": 15,
   "metadata": {},
   "outputs": [],
   "source": [
    "def is_vowel(a):\n",
    "    if(a.lower() in ['a','e','i','o','u']):\n",
    "        return True\n",
    "    else:\n",
    "        return False"
   ]
  },
  {
   "cell_type": "code",
   "execution_count": 17,
   "metadata": {},
   "outputs": [
    {
     "name": "stdout",
     "output_type": "stream",
     "text": [
      "True\n"
     ]
    }
   ],
   "source": [
    "l = is_vowel('A')\n",
    "print (l)"
   ]
  },
  {
   "cell_type": "code",
   "execution_count": null,
   "metadata": {},
   "outputs": [],
   "source": []
  }
 ],
 "metadata": {
  "kernelspec": {
   "display_name": "Python 3",
   "language": "python",
   "name": "python3"
  },
  "language_info": {
   "codemirror_mode": {
    "name": "ipython",
    "version": 3
   },
   "file_extension": ".py",
   "mimetype": "text/x-python",
   "name": "python",
   "nbconvert_exporter": "python",
   "pygments_lexer": "ipython3",
   "version": "3.7.4"
  }
 },
 "nbformat": 4,
 "nbformat_minor": 2
}
